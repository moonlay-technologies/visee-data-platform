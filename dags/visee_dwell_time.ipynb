{
  "cells": [
    {
      "cell_type": "code",
      "execution_count": 136,
      "metadata": {
        "id": "kLsHqIKv5r4D"
      },
      "outputs": [],
      "source": [
        "# import libraries\n",
        "import pandas as pd"
      ]
    },
    {
      "cell_type": "code",
      "source": [
        "# Create raw data into dataframe\n",
        "data = {\n",
        "    'activity_date': ['2024-03-17 10:44:29.999 +0700','2024-03-17 10:45:38.285 +0700',\n",
        "                      '2024-03-17 10:52:11.714 +0700','2024-03-17 10:52:16.571 +0700',\n",
        "                      '2024-03-17 10:53:05.285 +0700','2024-03-17 10:54:44.714 +0700',\n",
        "                      '2024-03-17 10:56:49.857 +0700','2024-03-17 11:00:16.571 +0700',\n",
        "                      '2024-03-17 11:01:40.285 +0700','2024-03-17 11:04:09.999 +0700',\n",
        "                      '2024-03-17 11:05:15.428 +0700','2024-03-17 11:07:25.428 +0700',\n",
        "                      '2024-03-17 11:08:54.999 +0700','2024-03-17 11:11:36.857 +0700',\n",
        "                      '2024-03-17 11:11:47.714 +0700','2024-03-17 11:12:48.285 +0700'],\n",
        "    'gender': ['female','female','female','female','female','female','female','female','female','female','female','female','female','female', 'female', 'male'],\n",
        "    'activity': ['in','in','out','out','out','in','out','out','in','out','out','in','out','in','in','out']\n",
        "    }\n",
        "\n",
        "df = pd.DataFrame(data)"
      ],
      "metadata": {
        "id": "fBbNU5OUtb2U"
      },
      "execution_count": 195,
      "outputs": []
    },
    {
      "cell_type": "code",
      "source": [
        "# Change datatype of column activity_date into timestamp\n",
        "df['activity_date'] = pd.to_datetime(df['activity_date'])\n",
        "\n",
        "# Separate by gender and activity\n",
        "df_in = df[(df['gender'] == 'female') & (df['activity'] == 'in')].sort_values(by=['activity_date']).reset_index(drop=True)\n",
        "df_out = df[(df['gender'] == 'female') & (df['activity'] == 'out')].sort_values(by=['activity_date']).reset_index(drop=True)\n",
        "\n",
        "# Rename columns\n",
        "df_in.rename(columns={'activity_date':'activity_date_in',\n",
        "                      'gender': 'gender',\n",
        "                      'activity': 'activity_in'}, inplace=True)\n",
        "df_out.rename(columns={'activity_date':'activity_date_out',\n",
        "                      'gender': 'gender',\n",
        "                      'activity': 'activity_out'}, inplace=True)"
      ],
      "metadata": {
        "id": "VeRyfJ4U0Xmy"
      },
      "execution_count": 198,
      "outputs": []
    },
    {
      "cell_type": "code",
      "source": [
        "print(df_in)"
      ],
      "metadata": {
        "colab": {
          "base_uri": "https://localhost:8080/"
        },
        "id": "rmEFE_EE0j0J",
        "outputId": "e74a6dec-98a0-4eba-c66f-718a19ba4474"
      },
      "execution_count": 199,
      "outputs": [
        {
          "output_type": "stream",
          "name": "stdout",
          "text": [
            "                  activity_date_in  gender activity_in\n",
            "0 2024-03-17 10:44:29.999000+07:00  female          in\n",
            "1 2024-03-17 10:45:38.285000+07:00  female          in\n",
            "2 2024-03-17 10:54:44.714000+07:00  female          in\n",
            "3 2024-03-17 11:01:40.285000+07:00  female          in\n",
            "4 2024-03-17 11:07:25.428000+07:00  female          in\n",
            "5 2024-03-17 11:11:36.857000+07:00  female          in\n",
            "6 2024-03-17 11:11:47.714000+07:00  female          in\n"
          ]
        }
      ]
    },
    {
      "cell_type": "code",
      "source": [
        "print(df_out)"
      ],
      "metadata": {
        "colab": {
          "base_uri": "https://localhost:8080/"
        },
        "id": "kY6psRcK0qm6",
        "outputId": "77760d47-ecf4-479a-e136-e478758fbb24"
      },
      "execution_count": 200,
      "outputs": [
        {
          "output_type": "stream",
          "name": "stdout",
          "text": [
            "                 activity_date_out  gender activity_out\n",
            "0 2024-03-17 10:52:11.714000+07:00  female          out\n",
            "1 2024-03-17 10:52:16.571000+07:00  female          out\n",
            "2 2024-03-17 10:53:05.285000+07:00  female          out\n",
            "3 2024-03-17 10:56:49.857000+07:00  female          out\n",
            "4 2024-03-17 11:00:16.571000+07:00  female          out\n",
            "5 2024-03-17 11:04:09.999000+07:00  female          out\n",
            "6 2024-03-17 11:05:15.428000+07:00  female          out\n",
            "7 2024-03-17 11:08:54.999000+07:00  female          out\n"
          ]
        }
      ]
    },
    {
      "cell_type": "code",
      "source": [
        "def merge_raw_data(df_in, df_out):\n",
        "    combined_data = []\n",
        "    paired_dates = set()\n",
        "\n",
        "    for index1, row1 in df_in.iterrows():\n",
        "        for index2, row2 in df_out.iterrows():\n",
        "            if row1['activity_date_in'] < row2['activity_date_out'] and row2['activity_date_out'] not in paired_dates:\n",
        "                combined_data.append({\n",
        "                    #'index_in': row1['index_in'],\n",
        "                    'activity_date_in': row1['activity_date_in'],\n",
        "                    'activity_in': row1['activity_in'],\n",
        "                    'gender_in': row1['gender'],\n",
        "                    #'index_out': row2['index_out'],\n",
        "                    'activity_date_out': row2['activity_date_out'],\n",
        "                    'activity_out': row2['activity_out'],\n",
        "                    'gender_out': row2['gender']\n",
        "                })\n",
        "                paired_dates.add(row2['activity_date_out'])\n",
        "                break  # Break the inner loop to avoid duplicate combinations\n",
        "\n",
        "    return pd.DataFrame(combined_data)\n",
        "\n",
        "merged_data = merge_raw_data(df_in, df_out)\n",
        "print(merged_data)"
      ],
      "metadata": {
        "colab": {
          "base_uri": "https://localhost:8080/"
        },
        "id": "wprsmBXC04LN",
        "outputId": "a0738da9-73f0-4e57-8dad-c57edd095c05"
      },
      "execution_count": 202,
      "outputs": [
        {
          "output_type": "stream",
          "name": "stdout",
          "text": [
            "                  activity_date_in activity_in gender_in  \\\n",
            "0 2024-03-17 10:44:29.999000+07:00          in    female   \n",
            "1 2024-03-17 10:45:38.285000+07:00          in    female   \n",
            "2 2024-03-17 10:54:44.714000+07:00          in    female   \n",
            "3 2024-03-17 11:01:40.285000+07:00          in    female   \n",
            "4 2024-03-17 11:07:25.428000+07:00          in    female   \n",
            "\n",
            "                 activity_date_out activity_out gender_out  \n",
            "0 2024-03-17 10:52:11.714000+07:00          out     female  \n",
            "1 2024-03-17 10:52:16.571000+07:00          out     female  \n",
            "2 2024-03-17 10:56:49.857000+07:00          out     female  \n",
            "3 2024-03-17 11:04:09.999000+07:00          out     female  \n",
            "4 2024-03-17 11:08:54.999000+07:00          out     female  \n"
          ]
        }
      ]
    }
  ],
  "metadata": {
    "colab": {
      "provenance": []
    },
    "kernelspec": {
      "display_name": "Python 3",
      "name": "python3"
    },
    "language_info": {
      "name": "python"
    }
  },
  "nbformat": 4,
  "nbformat_minor": 0
}